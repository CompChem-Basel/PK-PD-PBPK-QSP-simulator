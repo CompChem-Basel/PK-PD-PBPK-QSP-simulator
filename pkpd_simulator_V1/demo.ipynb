# Demo Notebook for PK/PD/PBPK/QSP Simulator
# ==========================================
# This notebook shows how to use the simulation framework
# in both scientific and user-friendly ways.
# Production-ready: full descriptors, ML hooks, PK mapping.

import os
import matplotlib.pyplot as plt
import pandas as pd
from descriptors import featurize_smiles, determine_absorption_site
from pkpd_models import run_all_simulations
from ml_model import predict_pka, predict_ec50, predict_clearance
from utils import save_all_results, smiles_to_2d

# --------------------------
# Setup
# --------------------------
output_root = "pkpd_output"
os.makedirs(output_root, exist_ok=True)

# User-defined test molecules
smiles_list = {
    "Aspirin": "CC(=O)OC1=CC=CC=C1C(=O)O",
    "Nicotine": "CN1CCC[C@H]1c2cccnc2",
}

# Population and route settings
population = "healthy_male"
route = "oral"
dose_mg = 100.0

results = {}

# --------------------------
# Run simulations
# --------------------------
for name, smiles in smiles_list.items():
    print(f"\n🔬 Running simulation for {name} ({smiles})")

    sim_dir = os.path.join(output_root, name.replace(" ", "_"))
    os.makedirs(sim_dir, exist_ok=True)

    # Compute descriptors
    desc = featurize_smiles(smiles)
    print(f"Descriptors for {name}:\n", pd.Series(desc))

    # Predict with ML hooks
    desc["pKa_pred"] = predict_pka(smiles)
    desc["EC50_pred"] = predict_ec50(smiles)
    desc["CL_pred"] = predict_clearance(smiles)

    # Absorption site
    absorption_site = determine_absorption_site(
        pka=desc["pKa"], heuristic_type=desc["pKa_type"]
    )
    print(f"Predicted absorption site: {absorption_site}")

    # Save structure
    smiles_to_2d(smiles, sim_dir, name)

    # Run PK/PD/PBPK/QSP simulations
    sim_results = run_all_simulations(
        smiles=smiles,
        dose_mg=dose_mg,
        route=route,
        population=population,
        measured_pka=desc["pKa"],
        measured_type=desc["pKa_type"],
        extra_params=desc,
    )

    # Save results (Excel, plots, GIF)
    save_all_results(sim_results, smiles, sim_dir)

    results[name] = {"desc": desc, "sim": sim_results}

# --------------------------
# Comparison Plot
# --------------------------
plt.figure(figsize=(10, 6))
for name, r in results.items():
    t = r["sim"]["t"]
    blood = r["sim"]["pbpk"].y[0]
    plt.plot(t, blood, label=f"{name} (Blood conc.)")

plt.title("PBPK Blood Concentration Comparison")
plt.xlabel("Time (h)")
plt.ylabel("Concentration (mg/L)")
plt.legend()
plt.grid(True)
plt.savefig(os.path.join(output_root, "comparison_pbpk.png"), dpi=300)
plt.show()

# --------------------------
# Layperson explanation
# --------------------------
explanation = """
This plot compares how two drugs behave in the body:
- The curve shows how much drug remains in the blood over 24 hours.
- The steeper the drop, the faster the drug is cleared.
- A higher peak means stronger exposure in the blood.

The simulator takes into account:
- Chemistry of the molecule (weight, lipophilicity, hydrogen bonds).
- Physiology (sex, disease, clearance organs).
- Predicted properties (pKa, clearance, potency).
- Distribution and metabolism in liver and kidneys.

This allows scientists and doctors to:
- Compare drugs head-to-head.
- Anticipate how disease states change exposure.
- Explore absorption in stomach vs intestine.
"""
print(explanation)
